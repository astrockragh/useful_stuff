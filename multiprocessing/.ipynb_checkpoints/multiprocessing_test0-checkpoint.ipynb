{
 "cells": [
  {
   "cell_type": "markdown",
   "metadata": {},
   "source": [
    "#### This notebook is the first attempt at making multiprocessing work for simple processes. Threading will be dealt with in a separate notebook\n",
    "\n",
    "Inspired by Corey Schafers manual"
   ]
  },
  {
   "cell_type": "markdown",
   "metadata": {},
   "source": [
    "## Note that the multiprocessing module is hard to run in jupyter"
   ]
  },
  {
   "cell_type": "markdown",
   "metadata": {},
   "source": [
    "For anyone who isn't familiar with the concept here's the essential differences\n",
    "\n",
    "Threading uses one core and can do that a bit more smartly (again, more will follow in a later notebook)\n",
    "\n",
    "Multiprocessing actually runs everything in parallel but cannot access the same memory, so for example, a fibonacci sequence cannot be done effectively with a multiprocessing module.\n",
    "\n",
    "Essentially, threading uses one GIL (**G**lobal **I**nterpreter **L**ock) while for multiprocessing each processor has one, which limits the otherwise more powerful multiprocessing"
   ]
  },
  {
   "cell_type": "code",
   "execution_count": 69,
   "metadata": {
    "ExecuteTime": {
     "end_time": "2020-09-12T15:45:41.173082Z",
     "start_time": "2020-09-12T15:45:41.168097Z"
    }
   },
   "outputs": [],
   "source": [
    "import numpy as np\n",
    "import matplotlib.pyplot as plt\n",
    "import multiprocessing as mp #for jupyter notebook this should be multiprocess, for python it should be multiprocessing,\n",
    "#otherwise the syntax and calls are the same\n",
    "import os, sys\n",
    "from tqdm import tqdm\n",
    "import time\n",
    "import funcs"
   ]
  },
  {
   "cell_type": "code",
   "execution_count": 70,
   "metadata": {
    "ExecuteTime": {
     "end_time": "2020-09-12T15:45:41.380902Z",
     "start_time": "2020-09-12T15:45:41.375915Z"
    }
   },
   "outputs": [
    {
     "data": {
      "text/plain": [
       "8"
      ]
     },
     "execution_count": 70,
     "metadata": {},
     "output_type": "execute_result"
    }
   ],
   "source": [
    "#check number of cpu's\n",
    "cpu=os.cpu_count()\n",
    "cpu"
   ]
  },
  {
   "cell_type": "code",
   "execution_count": 71,
   "metadata": {
    "ExecuteTime": {
     "end_time": "2020-09-12T15:45:41.843919Z",
     "start_time": "2020-09-12T15:45:41.839931Z"
    }
   },
   "outputs": [],
   "source": [
    "#define dummy function from other py module\n",
    "do_something=funcs.do_something"
   ]
  },
  {
   "cell_type": "code",
   "execution_count": 72,
   "metadata": {
    "ExecuteTime": {
     "end_time": "2020-09-12T15:45:44.215488Z",
     "start_time": "2020-09-12T15:45:42.210999Z"
    }
   },
   "outputs": [
    {
     "name": "stdout",
     "output_type": "stream",
     "text": [
      "Sleeping for 1 s...\n",
      "Done sleeping!\n",
      "Sleeping for 1 s...\n",
      "Done sleeping!\n"
     ]
    }
   ],
   "source": [
    "do_something()\n",
    "do_something()\n",
    "#total execution time is twice as much as it should be ;)"
   ]
  },
  {
   "cell_type": "code",
   "execution_count": 76,
   "metadata": {
    "ExecuteTime": {
     "end_time": "2020-09-12T15:46:44.939278Z",
     "start_time": "2020-09-12T15:46:42.957357Z"
    }
   },
   "outputs": [],
   "source": [
    "#define process\n",
    "p1=mp.Process(target=do_something, args=[1])\n",
    "p2=mp.Process(target=do_something, args=[1])\n",
    "p3=mp.Process(target=do_something, args=[1])\n",
    "#starting\n",
    "p1.start()\n",
    "p2.start()\n",
    "p3.start()\n",
    "# #join to actually run in parallel\n",
    "p1.join()\n",
    "p2.join()\n",
    "p3.join()"
   ]
  },
  {
   "cell_type": "code",
   "execution_count": 74,
   "metadata": {
    "ExecuteTime": {
     "end_time": "2020-09-12T15:45:49.533733Z",
     "start_time": "2020-09-12T15:45:47.607090Z"
    }
   },
   "outputs": [],
   "source": [
    "if __name__ == '__main__':\n",
    "    p1 = mp.Process(target=do_something, args=[1])\n",
    "    p2 = mp.Process(target=do_something, args=[1])\n",
    "    p1.start()\n",
    "    p2.start()\n",
    "    p1.join()\n",
    "    p2.join()"
   ]
  },
  {
   "cell_type": "code",
   "execution_count": null,
   "metadata": {},
   "outputs": [],
   "source": [
    "#proposed way of zipping together two list, should be easy to generalize\n",
    "result = [None]*(len(list1)+len(list2))\n",
    "result[::2] = list1\n",
    "result[1::2] = list2"
   ]
  },
  {
   "cell_type": "code",
   "execution_count": 40,
   "metadata": {
    "ExecuteTime": {
     "end_time": "2020-09-12T15:33:50.171077Z",
     "start_time": "2020-09-12T15:33:49.982619Z"
    }
   },
   "outputs": [
    {
     "name": "stdout",
     "output_type": "stream",
     "text": [
      "Finished in 0.18 second(s)\n"
     ]
    }
   ],
   "source": [
    "import concurrent.futures\n",
    "start = time.perf_counter()\n",
    "\n",
    "\n",
    "def do_something(seconds):\n",
    "    print(f'Sleeping {seconds} second(s)...')\n",
    "    time.sleep(seconds)\n",
    "    return f'Done Sleeping...{seconds}'\n",
    "\n",
    "\n",
    "with concurrent.futures.ProcessPoolExecutor() as executor:\n",
    "    secs = [5, 4, 3, 2, 1]\n",
    "    results = executor.map(do_something, secs)\n",
    "\n",
    "    # for result in results:\n",
    "    #     print(result)\n",
    "\n",
    "finish = time.perf_counter()\n",
    "\n",
    "print(f'Finished in {round(finish-start, 2)} second(s)')"
   ]
  }
 ],
 "metadata": {
  "hide_input": false,
  "kernelspec": {
   "display_name": "Python 3",
   "language": "python",
   "name": "python3"
  },
  "language_info": {
   "codemirror_mode": {
    "name": "ipython",
    "version": 3
   },
   "file_extension": ".py",
   "mimetype": "text/x-python",
   "name": "python",
   "nbconvert_exporter": "python",
   "pygments_lexer": "ipython3",
   "version": "3.7.4"
  }
 },
 "nbformat": 4,
 "nbformat_minor": 4
}
